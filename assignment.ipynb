{
 "cells": [
  {
   "cell_type": "code",
   "execution_count": 7,
   "metadata": {},
   "outputs": [
    {
     "name": "stdout",
     "output_type": "stream",
     "text": [
      "The even number is 0\n",
      "The even number is 2\n",
      "The even number is 4\n",
      "The even number is 6\n",
      "The even number is 8\n",
      "The even number is 10\n",
      "The even number is 12\n",
      "The even number is 14\n",
      "The even number is 16\n"
     ]
    }
   ],
   "source": [
    "def test_while_loop():\n",
    "    # Test if the while loop prints even numbers up to 20 and stops at 16\n",
    "    i = 0\n",
    "    while i <= 20:\n",
    "        if i % 2 == 0:\n",
    "            print(f\"The even number is {i}\")\n",
    "            if i == 16:\n",
    "                break\n",
    "        i += 1\n",
    "\n",
    "# Run the function\n",
    "test_while_loop()\n"
   ]
  },
  {
   "cell_type": "code",
   "execution_count": 8,
   "metadata": {},
   "outputs": [
    {
     "name": "stdout",
     "output_type": "stream",
     "text": [
      "The number divisible by 3 is skipped, and the remaining number is 1\n",
      "The number divisible by 3 is skipped, and the remaining number is 2\n",
      "The number divisible by 3 is skipped, and the remaining number is 4\n",
      "The number divisible by 3 is skipped, and the remaining number is 5\n",
      "The number divisible by 3 is skipped, and the remaining number is 7\n",
      "The number divisible by 3 is skipped, and the remaining number is 8\n"
     ]
    }
   ],
   "source": [
    "def test_for_loop_continue():\n",
    "    # Test if the for loop skips numbers divisible by 3\n",
    "    for i in range(1, 10):\n",
    "        if i % 3 == 0:\n",
    "            continue\n",
    "        print(f\"The number divisible by 3 is skipped, and the remaining number is {i}\")\n",
    "\n",
    "# Run the function\n",
    "test_for_loop_continue()\n"
   ]
  },
  {
   "cell_type": "code",
   "execution_count": 9,
   "metadata": {},
   "outputs": [
    {
     "name": "stdout",
     "output_type": "stream",
     "text": [
      "1 is an odd number\n",
      "2 is an even number\n",
      "3 is an odd number\n",
      "4 is an even number\n",
      "5 is an odd number\n",
      "6 is an even number\n",
      "7 is an odd number\n",
      "8 is an even number\n",
      "9 is an odd number\n"
     ]
    }
   ],
   "source": [
    "def test_if_else():\n",
    "        # Test if the if-else statement categorizes numbers correctly\n",
    "    for i in range(1, 10):\n",
    "        if i % 2 == 0:\n",
    "            print(f\"{i} is an even number\")\n",
    "        else:\n",
    "            print(f\"{i} is an odd number\")\n",
    "test_if_else()\n"
   ]
  },
  {
   "cell_type": "code",
   "execution_count": 12,
   "metadata": {},
   "outputs": [
    {
     "name": "stdout",
     "output_type": "stream",
     "text": [
      "Multiplication Table (1 to 12):\n",
      "----------------------------------------\n",
      "1 x 1 = 1,  \t1 x 2 = 2,  \t1 x 3 = 3,  \t1 x 4 = 4,  \t1 x 5 = 5,  \t1 x 6 = 6,  \t1 x 7 = 7,  \t1 x 8 = 8,  \t1 x 9 = 9,  \t1 x 10 = 10,  \t1 x 11 = 11,  \t1 x 12 = 12,  \t\n",
      "\n",
      "2 x 1 = 2,  \t2 x 2 = 4,  \t2 x 3 = 6,  \t2 x 4 = 8,  \t2 x 5 = 10,  \t2 x 6 = 12,  \t2 x 7 = 14,  \t2 x 8 = 16,  \t2 x 9 = 18,  \t2 x 10 = 20,  \t2 x 11 = 22,  \t2 x 12 = 24,  \t\n",
      "\n",
      "3 x 1 = 3,  \t3 x 2 = 6,  \t3 x 3 = 9,  \t3 x 4 = 12,  \t3 x 5 = 15,  \t3 x 6 = 18,  \t3 x 7 = 21,  \t3 x 8 = 24,  \t3 x 9 = 27,  \t3 x 10 = 30,  \t3 x 11 = 33,  \t3 x 12 = 36,  \t\n",
      "\n",
      "4 x 1 = 4,  \t4 x 2 = 8,  \t4 x 3 = 12,  \t4 x 4 = 16,  \t4 x 5 = 20,  \t4 x 6 = 24,  \t4 x 7 = 28,  \t4 x 8 = 32,  \t4 x 9 = 36,  \t4 x 10 = 40,  \t4 x 11 = 44,  \t4 x 12 = 48,  \t\n",
      "\n",
      "5 x 1 = 5,  \t5 x 2 = 10,  \t5 x 3 = 15,  \t5 x 4 = 20,  \t5 x 5 = 25,  \t5 x 6 = 30,  \t5 x 7 = 35,  \t5 x 8 = 40,  \t5 x 9 = 45,  \t5 x 10 = 50,  \t5 x 11 = 55,  \t5 x 12 = 60,  \t\n",
      "\n",
      "6 x 1 = 6,  \t6 x 2 = 12,  \t6 x 3 = 18,  \t6 x 4 = 24,  \t6 x 5 = 30,  \t6 x 6 = 36,  \t6 x 7 = 42,  \t6 x 8 = 48,  \t6 x 9 = 54,  \t6 x 10 = 60,  \t6 x 11 = 66,  \t6 x 12 = 72,  \t\n",
      "\n",
      "7 x 1 = 7,  \t7 x 2 = 14,  \t7 x 3 = 21,  \t7 x 4 = 28,  \t7 x 5 = 35,  \t7 x 6 = 42,  \t7 x 7 = 49,  \t7 x 8 = 56,  \t7 x 9 = 63,  \t7 x 10 = 70,  \t7 x 11 = 77,  \t7 x 12 = 84,  \t\n",
      "\n",
      "8 x 1 = 8,  \t8 x 2 = 16,  \t8 x 3 = 24,  \t8 x 4 = 32,  \t8 x 5 = 40,  \t8 x 6 = 48,  \t8 x 7 = 56,  \t8 x 8 = 64,  \t8 x 9 = 72,  \t8 x 10 = 80,  \t8 x 11 = 88,  \t8 x 12 = 96,  \t\n",
      "\n",
      "9 x 1 = 9,  \t9 x 2 = 18,  \t9 x 3 = 27,  \t9 x 4 = 36,  \t9 x 5 = 45,  \t9 x 6 = 54,  \t9 x 7 = 63,  \t9 x 8 = 72,  \t9 x 9 = 81,  \t9 x 10 = 90,  \t9 x 11 = 99,  \t9 x 12 = 108,  \t\n",
      "\n",
      "10 x 1 = 10,  \t10 x 2 = 20,  \t10 x 3 = 30,  \t10 x 4 = 40,  \t10 x 5 = 50,  \t10 x 6 = 60,  \t10 x 7 = 70,  \t10 x 8 = 80,  \t10 x 9 = 90,  \t10 x 10 = 100,  \t10 x 11 = 110,  \t10 x 12 = 120,  \t\n",
      "\n",
      "11 x 1 = 11,  \t11 x 2 = 22,  \t11 x 3 = 33,  \t11 x 4 = 44,  \t11 x 5 = 55,  \t11 x 6 = 66,  \t11 x 7 = 77,  \t11 x 8 = 88,  \t11 x 9 = 99,  \t11 x 10 = 110,  \t11 x 11 = 121,  \t11 x 12 = 132,  \t\n",
      "\n",
      "12 x 1 = 12,  \t12 x 2 = 24,  \t12 x 3 = 36,  \t12 x 4 = 48,  \t12 x 5 = 60,  \t12 x 6 = 72,  \t12 x 7 = 84,  \t12 x 8 = 96,  \t12 x 9 = 108,  \t12 x 10 = 120,  \t12 x 11 = 132,  \t12 x 12 = 144,  \t\n",
      "\n"
     ]
    }
   ],
   "source": [
    "def test_nested_loops():\n",
    "    \"\"\"\n",
    "    Generate and display a multiplication table from 1 to 12.\n",
    "    \"\"\"\n",
    "    # Header for the multiplication table\n",
    "    print(\"Multiplication Table (1 to 12):\")\n",
    "    print(\"-\" * 40)\n",
    "    \n",
    "    for i in range(1, 13):\n",
    "        for j in range(1, 13):\n",
    "                print(f\"{i} x {j} = {i*j}, \", end=\" \\t\")\n",
    "        print(\"\\n\")  # Move to the next row after each inner loop\n",
    "\n",
    "# Execute the function\n",
    "test_nested_loops()\n"
   ]
  }
 ],
 "metadata": {
  "kernelspec": {
   "display_name": "Python 3",
   "language": "python",
   "name": "python3"
  },
  "language_info": {
   "codemirror_mode": {
    "name": "ipython",
    "version": 3
   },
   "file_extension": ".py",
   "mimetype": "text/x-python",
   "name": "python",
   "nbconvert_exporter": "python",
   "pygments_lexer": "ipython3",
   "version": "3.12.5"
  }
 },
 "nbformat": 4,
 "nbformat_minor": 2
}
